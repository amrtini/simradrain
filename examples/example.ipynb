{
 "cells": [
  {
   "cell_type": "code",
   "execution_count": 4,
   "metadata": {
    "collapsed": true,
    "pycharm": {
     "name": "#%%\n"
    }
   },
   "outputs": [],
   "source": [
    "from simradrain import est, sim"
   ]
  },
  {
   "cell_type": "code",
   "execution_count": 5,
   "outputs": [
    {
     "name": "stdout",
     "output_type": "stream",
     "text": [
      "Reading in event data.\n"
     ]
    }
   ],
   "source": [
    "event = est.Event(\"sim_40731.hdf5\")"
   ],
   "metadata": {
    "collapsed": false,
    "pycharm": {
     "name": "#%%\n"
    }
   }
  },
  {
   "cell_type": "code",
   "execution_count": 7,
   "outputs": [
    {
     "name": "stdout",
     "output_type": "stream",
     "text": [
      "Estimating advection.\n"
     ]
    },
    {
     "name": "stderr",
     "output_type": "stream",
     "text": [
      "C:\\Users\\Amy\\OneDrive - Newcastle University (1)\\Documents\\PHD\\paper1\\simradrain\\est.py:268: UserWarning: Warning: converting a masked element to nan.\n",
      "  corrs[y_i + search_w, x_i + search_w] = corr\n",
      "C:\\Users\\Amy\\OneDrive - Newcastle University (1)\\Documents\\PHD\\paper1\\simradrain\\est.py:275: RuntimeWarning: All-NaN slice encountered\n",
      "  if not np.isnan(np.nanmax(rank_corrs)):\n",
      "C:\\Users\\Amy\\OneDrive - Newcastle University (1)\\Documents\\PHD\\paper1\\simradrain\\est.py:295: SettingWithCopyWarning: \n",
      "A value is trying to be set on a copy of a slice from a DataFrame.\n",
      "Try using .loc[row_indexer,col_indexer] = value instead\n",
      "\n",
      "See the caveats in the documentation: https://pandas.pydata.org/pandas-docs/stable/user_guide/indexing.html#returning-a-view-versus-a-copy\n",
      "  self.raw_advection[attr] = self.raw_advection[attr].astype(str).str.strip(\"[]\").str.strip(\" \").astype(float)\n"
     ]
    }
   ],
   "source": [
    "event.est_advection()"
   ],
   "metadata": {
    "collapsed": false,
    "pycharm": {
     "name": "#%%\n"
    }
   }
  },
  {
   "cell_type": "code",
   "execution_count": 8,
   "outputs": [
    {
     "name": "stdout",
     "output_type": "stream",
     "text": [
      "Removing advection for stationary event.\n",
      "Fitting marginal rainfall distribution.\n",
      "Centering rainfall.\n",
      "Calculating variogram field.\n",
      "Estimating the spatial anisotropy.\n",
      "Estimating spatial anisotropy.\n",
      "-90\n",
      "-80\n",
      "-70\n",
      "-60\n",
      "-50\n",
      "-40\n",
      "-30\n",
      "-20\n",
      "-10\n",
      "0\n",
      "10\n",
      "20\n",
      "30\n",
      "40\n",
      "50\n",
      "60\n",
      "70\n",
      "80\n"
     ]
    },
    {
     "ename": "NameError",
     "evalue": "name 'ev' is not defined",
     "output_type": "error",
     "traceback": [
      "\u001B[1;31m---------------------------------------------------------------------------\u001B[0m",
      "\u001B[1;31mNameError\u001B[0m                                 Traceback (most recent call last)",
      "Cell \u001B[1;32mIn [8], line 1\u001B[0m\n\u001B[1;32m----> 1\u001B[0m \u001B[43mevent\u001B[49m\u001B[38;5;241;43m.\u001B[39;49m\u001B[43mfit_vario_model\u001B[49m\u001B[43m(\u001B[49m\u001B[43m)\u001B[49m\n",
      "File \u001B[1;32m~\\OneDrive - Newcastle University (1)\\Documents\\PHD\\paper1\\simradrain\\est.py:795\u001B[0m, in \u001B[0;36mEvent.fit_vario_model\u001B[1;34m(self, r, models, nested)\u001B[0m\n\u001B[0;32m    792\u001B[0m \u001B[38;5;28;01mdef\u001B[39;00m \u001B[38;5;21mfit_vario_model\u001B[39m(\u001B[38;5;28mself\u001B[39m, r\u001B[38;5;241m=\u001B[39m\u001B[38;5;241m76\u001B[39m, models\u001B[38;5;241m=\u001B[39m[\u001B[38;5;124m\"\u001B[39m\u001B[38;5;124mExp\u001B[39m\u001B[38;5;124m\"\u001B[39m, \u001B[38;5;124m\"\u001B[39m\u001B[38;5;124mSph\u001B[39m\u001B[38;5;124m\"\u001B[39m, \u001B[38;5;124m\"\u001B[39m\u001B[38;5;124mGau\u001B[39m\u001B[38;5;124m\"\u001B[39m, \u001B[38;5;124m\"\u001B[39m\u001B[38;5;124mLin\u001B[39m\u001B[38;5;124m\"\u001B[39m], nested\u001B[38;5;241m=\u001B[39m\u001B[38;5;28;01mTrue\u001B[39;00m):\n\u001B[0;32m    794\u001B[0m     \u001B[38;5;28;01mif\u001B[39;00m \u001B[38;5;28mself\u001B[39m\u001B[38;5;241m.\u001B[39mmarginal_vario \u001B[38;5;129;01mis\u001B[39;00m \u001B[38;5;28;01mNone\u001B[39;00m:\n\u001B[1;32m--> 795\u001B[0m         \u001B[38;5;28;43mself\u001B[39;49m\u001B[38;5;241;43m.\u001B[39;49m\u001B[43mget_isotropic_variogram\u001B[49m\u001B[43m(\u001B[49m\u001B[43m)\u001B[49m\n\u001B[0;32m    797\u001B[0m     model_combs \u001B[38;5;241m=\u001B[39m []\n\u001B[0;32m    799\u001B[0m     \u001B[38;5;28;01mfor\u001B[39;00m model1 \u001B[38;5;129;01min\u001B[39;00m models:\n",
      "File \u001B[1;32m~\\OneDrive - Newcastle University (1)\\Documents\\PHD\\paper1\\simradrain\\est.py:764\u001B[0m, in \u001B[0;36mEvent.get_isotropic_variogram\u001B[1;34m(self, r)\u001B[0m\n\u001B[0;32m    761\u001B[0m \u001B[38;5;28;01mdef\u001B[39;00m \u001B[38;5;21mget_isotropic_variogram\u001B[39m(\u001B[38;5;28mself\u001B[39m, r\u001B[38;5;241m=\u001B[39m\u001B[38;5;241m150\u001B[39m):\n\u001B[0;32m    763\u001B[0m     \u001B[38;5;28;01mif\u001B[39;00m \u001B[38;5;28mself\u001B[39m\u001B[38;5;241m.\u001B[39mkappa_st \u001B[38;5;129;01mis\u001B[39;00m \u001B[38;5;28;01mNone\u001B[39;00m:\n\u001B[1;32m--> 764\u001B[0m         \u001B[38;5;28;43mself\u001B[39;49m\u001B[38;5;241;43m.\u001B[39;49m\u001B[43mget_spatiotemp_anis\u001B[49m\u001B[43m(\u001B[49m\u001B[43m)\u001B[49m\n\u001B[0;32m    766\u001B[0m     \u001B[38;5;28;01mif\u001B[39;00m \u001B[38;5;28mself\u001B[39m\u001B[38;5;241m.\u001B[39mkappa_st \u001B[38;5;129;01mis\u001B[39;00m \u001B[38;5;129;01mnot\u001B[39;00m \u001B[38;5;28;01mNone\u001B[39;00m:\n\u001B[0;32m    767\u001B[0m         \u001B[38;5;66;03m# remove spatial anisotropy\u001B[39;00m\n\u001B[0;32m    768\u001B[0m         rotated \u001B[38;5;241m=\u001B[39m rotate(\u001B[38;5;28mself\u001B[39m\u001B[38;5;241m.\u001B[39mempirical_variogram, \u001B[38;5;28mself\u001B[39m\u001B[38;5;241m.\u001B[39mtheta_xy, axes\u001B[38;5;241m=\u001B[39m(\u001B[38;5;241m1\u001B[39m, \u001B[38;5;241m2\u001B[39m), reshape\u001B[38;5;241m=\u001B[39m\u001B[38;5;28;01mFalse\u001B[39;00m, cval\u001B[38;5;241m=\u001B[39mnp\u001B[38;5;241m.\u001B[39mnan)\n",
      "File \u001B[1;32m~\\OneDrive - Newcastle University (1)\\Documents\\PHD\\paper1\\simradrain\\est.py:528\u001B[0m, in \u001B[0;36mEvent.get_spatiotemp_anis\u001B[1;34m(self, plot, upper_t, lower_t, dim_t, upper_s, lower_s, dim_s)\u001B[0m\n\u001B[0;32m    523\u001B[0m \u001B[38;5;28;01mdef\u001B[39;00m \u001B[38;5;21mget_spatiotemp_anis\u001B[39m(\u001B[38;5;28mself\u001B[39m, plot\u001B[38;5;241m=\u001B[39m\u001B[38;5;28;01mFalse\u001B[39;00m,\n\u001B[0;32m    524\u001B[0m                         upper_t\u001B[38;5;241m=\u001B[39m\u001B[38;5;241m200\u001B[39m, lower_t\u001B[38;5;241m=\u001B[39m\u001B[38;5;241m2\u001B[39m, dim_t\u001B[38;5;241m=\u001B[39m\u001B[38;5;241m1\u001B[39m,\n\u001B[0;32m    525\u001B[0m                         upper_s\u001B[38;5;241m=\u001B[39m\u001B[38;5;241m1000\u001B[39m, lower_s\u001B[38;5;241m=\u001B[39m\u001B[38;5;241m15\u001B[39m, dim_s\u001B[38;5;241m=\u001B[39m\u001B[38;5;241m2\u001B[39m):\n\u001B[0;32m    527\u001B[0m     \u001B[38;5;28;01mif\u001B[39;00m \u001B[38;5;28mself\u001B[39m\u001B[38;5;241m.\u001B[39mspatial_anistopy_est \u001B[38;5;129;01mis\u001B[39;00m \u001B[38;5;28;01mNone\u001B[39;00m:\n\u001B[1;32m--> 528\u001B[0m         \u001B[38;5;28;43mself\u001B[39;49m\u001B[38;5;241;43m.\u001B[39;49m\u001B[43mget_spatial_anis\u001B[49m\u001B[43m(\u001B[49m\u001B[43m)\u001B[49m\n\u001B[0;32m    530\u001B[0m     \u001B[38;5;66;03m# estimate the spatiotemporal anisotropy\u001B[39;00m\n\u001B[0;32m    531\u001B[0m     \u001B[38;5;28mprint\u001B[39m(\u001B[38;5;124m\"\u001B[39m\u001B[38;5;124mCalculating marginal variograms.\u001B[39m\u001B[38;5;124m\"\u001B[39m)\n",
      "File \u001B[1;32m~\\OneDrive - Newcastle University (1)\\Documents\\PHD\\paper1\\simradrain\\est.py:510\u001B[0m, in \u001B[0;36mEvent.get_spatial_anis\u001B[1;34m(self, angles, stretches, lim)\u001B[0m\n\u001B[0;32m    507\u001B[0m values \u001B[38;5;241m=\u001B[39m [optim_lambda1, optim_theta1, optim_mean_sq1, optim_lambda2, optim_theta2, optim_mean_sq2]\n\u001B[0;32m    509\u001B[0m \u001B[38;5;28mself\u001B[39m\u001B[38;5;241m.\u001B[39mspatial_anistopy_est \u001B[38;5;241m=\u001B[39m pd\u001B[38;5;241m.\u001B[39mSeries(values, index\u001B[38;5;241m=\u001B[39mnames)\n\u001B[1;32m--> 510\u001B[0m \u001B[38;5;28mself\u001B[39m\u001B[38;5;241m.\u001B[39mlambda_xy \u001B[38;5;241m=\u001B[39m \u001B[43mev\u001B[49m\u001B[38;5;241m.\u001B[39mspatial_anistopy_est\u001B[38;5;241m.\u001B[39mloc[\u001B[38;5;124m\"\u001B[39m\u001B[38;5;124moptim_lambda1\u001B[39m\u001B[38;5;124m\"\u001B[39m]\n\u001B[0;32m    511\u001B[0m \u001B[38;5;28mself\u001B[39m\u001B[38;5;241m.\u001B[39mtheta_xy \u001B[38;5;241m=\u001B[39m ev\u001B[38;5;241m.\u001B[39mspatial_anistopy_est\u001B[38;5;241m.\u001B[39mloc[\u001B[38;5;124m\"\u001B[39m\u001B[38;5;124moptim_theta2\u001B[39m\u001B[38;5;124m\"\u001B[39m]\n\u001B[0;32m    513\u001B[0m \u001B[38;5;66;03m# rotate and stretch to get spatially isotropic field\u001B[39;00m\n",
      "\u001B[1;31mNameError\u001B[0m: name 'ev' is not defined"
     ]
    }
   ],
   "source": [
    "event.fit_vario_model()"
   ],
   "metadata": {
    "collapsed": false,
    "pycharm": {
     "name": "#%%\n"
    }
   }
  },
  {
   "cell_type": "code",
   "execution_count": null,
   "outputs": [],
   "source": [
    "event.rainfall_marginals"
   ],
   "metadata": {
    "collapsed": false,
    "pycharm": {
     "name": "#%%\n"
    }
   }
  },
  {
   "cell_type": "code",
   "execution_count": null,
   "outputs": [],
   "source": [
    "marginals = {'k': 0.738,\n",
    " 'loc': 0.5,\n",
    " 'p': 0.5,\n",
    " 'prop_nz': 0.5,\n",
    " 'prop_rain': 0.5,\n",
    " 'prop_zero': 0.5,\n",
    " 'rain_thresh': 0.5,\n",
    " 'scale': 0.45,\n",
    " 'u': 0.009,\n",
    " 'zero_thresh': 0.1}\n",
    "\n",
    "sim = SimRain(\n",
    "        dur=2,\n",
    "        marginals=marginals,\n",
    "        cov='0.001 Nug(1) + 0.176 Sph(112.7) + 0.003 Lin(2.8)',\n",
    "        domain=(200, 200),\n",
    "        adv=(0, 5,\n",
    "        xy_anis=(1.5, 30),\n",
    "        st_anis=1,\n",
    "        mem_lim=5\n",
    "    )\n",
    "sim.simulate_rain()"
   ],
   "metadata": {
    "collapsed": false,
    "pycharm": {
     "name": "#%%\n"
    }
   }
  }
 ],
 "metadata": {
  "kernelspec": {
   "display_name": "Python 3",
   "language": "python",
   "name": "python3"
  },
  "language_info": {
   "codemirror_mode": {
    "name": "ipython",
    "version": 2
   },
   "file_extension": ".py",
   "mimetype": "text/x-python",
   "name": "python",
   "nbconvert_exporter": "python",
   "pygments_lexer": "ipython2",
   "version": "2.7.6"
  }
 },
 "nbformat": 4,
 "nbformat_minor": 0
}